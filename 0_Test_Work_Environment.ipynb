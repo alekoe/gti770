{
 "cells": [
  {
   "cell_type": "markdown",
   "metadata": {},
   "source": [
    "# GTI770 - Systèmes Intelligents et Apprentissage Machine\n",
    "\n",
    "## Notebook Jupyter - 0_Test_Working_Environment\n",
    "\n",
    "### Simpsons Dataset\n",
    "\n",
    "#### Alessandro L. Koerich\n",
    "#### January 2019"
   ]
  },
  {
   "cell_type": "code",
   "execution_count": 1,
   "metadata": {},
   "outputs": [
    {
     "name": "stdout",
     "output_type": "stream",
     "text": [
      "It seems to work...\n"
     ]
    }
   ],
   "source": [
    "# Imports General\n",
    "import numpy as np\n",
    "import matplotlib.pyplot as plt\n",
    "import os\n",
    "import sys\n",
    "import time\n",
    "import matplotlib\n",
    "\n",
    "print (\"It seems to work...\") "
   ]
  },
  {
   "cell_type": "code",
   "execution_count": 2,
   "metadata": {},
   "outputs": [
    {
     "name": "stdout",
     "output_type": "stream",
     "text": [
      "It seems to work...\n"
     ]
    }
   ],
   "source": [
    "# Imports Scikit-Learn\n",
    "from sklearn.utils import shuffle\n",
    "from sklearn.model_selection import train_test_split\n",
    "from sklearn.preprocessing import normalize\n",
    "from sklearn.preprocessing import scale\n",
    "from sklearn.preprocessing import MinMaxScaler\n",
    "print (\"It seems to work...\") "
   ]
  },
  {
   "cell_type": "code",
   "execution_count": 3,
   "metadata": {},
   "outputs": [
    {
     "name": "stdout",
     "output_type": "stream",
     "text": [
      "It seems to work...\n"
     ]
    }
   ],
   "source": [
    "#Imports from TP1 GTI770-H2018\n",
    "import csv\n",
    "import math\n",
    "import scipy.ndimage as nd\n",
    "from scipy.stats.mstats import mquantiles, kurtosis, skew\n",
    "from sklearn.preprocessing import LabelEncoder\n",
    "print (\"It seems to work...\") "
   ]
  },
  {
   "cell_type": "code",
   "execution_count": 4,
   "metadata": {},
   "outputs": [
    {
     "name": "stdout",
     "output_type": "stream",
     "text": [
      "It seems to work...\n"
     ]
    }
   ],
   "source": [
    "import cv2\n",
    "print (\"It seems to work...\") "
   ]
  },
  {
   "cell_type": "code",
   "execution_count": 5,
   "metadata": {},
   "outputs": [
    {
     "name": "stdout",
     "output_type": "stream",
     "text": [
      "It seems to work...\n"
     ]
    }
   ],
   "source": [
    "num_features = 2\n",
    "\n",
    "# if we want to add the label at the end, we must add a dimension\n",
    "num_features = num_features + 1\n",
    "\n",
    "feature_vector = np.zeros( (1, num_features) )\n",
    "#, dtype=float)\n",
    "print (\"It seems to work...\") "
   ]
  },
  {
   "cell_type": "code",
   "execution_count": 6,
   "metadata": {},
   "outputs": [
    {
     "data": {
      "image/png": "[encoded data removed]",
      "text/plain": [
       "<Figure size 432x288 with 2 Axes>"
      ]
     },
     "metadata": {},
     "output_type": "display_data"
    },
    {
     "name": "stdout",
     "output_type": "stream",
     "text": [
      "[10. 50.  0.]\n",
      "It seems to work...\n"
     ]
    }
   ],
   "source": [
    "img_color        = cv2.imread(\"homer040.bmp\",-1)\n",
    "img_color_cloned = img_color.copy()\n",
    "\n",
    "img_count = 0\n",
    "orange = 10\n",
    "white = 50\n",
    "label_train = 0\n",
    "\n",
    "# Show processed image\n",
    "RGB_img = cv2.cvtColor(img_color, cv2.COLOR_BGR2RGB)    \n",
    "RGB_img_cloned = cv2.cvtColor(img_color_cloned, cv2.COLOR_BGR2RGB)    \n",
    "f, axarr = plt.subplots(1,2)\n",
    "axarr[0].imshow(RGB_img)\n",
    "axarr[1].imshow(RGB_img_cloned)           \n",
    "plt.show()\n",
    "            \n",
    "# Store the feature value in the columns of the feature (matrix) vector\n",
    "        \n",
    "feature_vector[img_count] = [orange, white, label_train]\n",
    "print (feature_vector[img_count]) \n",
    "        \n",
    "np.savetxt(\"homer_vector.csv\", feature_vector, delimiter=\",\")\n",
    "print (\"It seems to work...\")        "
   ]
  },
  {
   "cell_type": "code",
   "execution_count": 7,
   "metadata": {},
   "outputs": [
    {
     "data": {
      "image/png": "[encoded data removed]",
      "text/plain": [
       "<Figure size 432x288 with 1 Axes>"
      ]
     },
     "metadata": {},
     "output_type": "display_data"
    },
    {
     "name": "stdout",
     "output_type": "stream",
     "text": [
      "It seems to work...\n"
     ]
    }
   ],
   "source": [
    "from matplotlib.colors import ListedColormap\n",
    "\n",
    "cm = plt.cm.RdBu\n",
    "colors = ['red','green','blue','purple', 'magenta', 'yellow', 'black', 'cyan' ]    \n",
    "cm_bright = ListedColormap(colors)\n",
    "    \n",
    "orange, white, label = np.loadtxt(\"homer_vector.csv\", delimiter=\",\", unpack = True)\n",
    "\n",
    "graph = plt.scatter(orange, white, cmap=cm_bright, edgecolors='k')\n",
    "plt.show()\n",
    "print (\"It seems to work...\")        "
   ]
  },
  {
   "cell_type": "code",
   "execution_count": 8,
   "metadata": {},
   "outputs": [
    {
     "name": "stdout",
     "output_type": "stream",
     "text": [
      "It seems to work...\n"
     ]
    }
   ],
   "source": [
    "# Imports\n",
    "# to visualize the tree you must install this library\n",
    "# pip install graphviz\n",
    "import graphviz\n",
    "from sklearn import tree\n",
    "print (\"It seems to work...\")        "
   ]
  },
  {
   "cell_type": "code",
   "execution_count": 9,
   "metadata": {},
   "outputs": [
    {
     "name": "stdout",
     "output_type": "stream",
     "text": [
      "It seems to work...\n"
     ]
    }
   ],
   "source": [
    "# Imports\n",
    "import numpy as np\n",
    "from sklearn.naive_bayes import BernoulliNB\n",
    "from sklearn.naive_bayes import MultinomialNB\n",
    "from sklearn.naive_bayes import GaussianNB\n",
    "print (\"It seems to work...\")        "
   ]
  },
  {
   "cell_type": "code",
   "execution_count": 10,
   "metadata": {},
   "outputs": [
    {
     "name": "stdout",
     "output_type": "stream",
     "text": [
      "It seems to work...\n"
     ]
    }
   ],
   "source": [
    "from sklearn import neighbors\n",
    "print (\"It seems to work...\")        "
   ]
  },
  {
   "cell_type": "code",
   "execution_count": 11,
   "metadata": {},
   "outputs": [
    {
     "name": "stderr",
     "output_type": "stream",
     "text": [
      "Using TensorFlow backend.\n"
     ]
    }
   ],
   "source": [
    "# Critical Part\n",
    "# Testing Tensorflow and Keras\n",
    "# Imports from KERAS\n",
    "from keras.models import Sequential\n",
    "from keras.layers import Dense\n",
    "from keras.layers import Activation\n",
    "from keras.utils import np_utils\n",
    "from keras.callbacks import TensorBoard"
   ]
  },
  {
   "cell_type": "code",
   "execution_count": 12,
   "metadata": {
    "collapsed": true
   },
   "outputs": [],
   "source": [
    "from keras import backend as K\n",
    "K.set_image_dim_ordering('th')\n",
    "from keras.callbacks import TensorBoard"
   ]
  },
  {
   "cell_type": "code",
   "execution_count": 13,
   "metadata": {
    "collapsed": true
   },
   "outputs": [],
   "source": [
    "# Imports from TENSOR FLOW\n",
    "import tensorflow as tf"
   ]
  },
  {
   "cell_type": "code",
   "execution_count": 14,
   "metadata": {},
   "outputs": [
    {
     "name": "stdout",
     "output_type": "stream",
     "text": [
      "b'Hello, TensorFlow!'\n"
     ]
    }
   ],
   "source": [
    "# Testing the installation of Tensor Flow\n",
    "hello = tf.constant('Hello, TensorFlow!')\n",
    "hello = tf.constant('Hello, TensorFlow!')\n",
    "sess = tf.Session()\n",
    "print(sess.run(hello))"
   ]
  },
  {
   "cell_type": "code",
   "execution_count": 16,
   "metadata": {},
   "outputs": [
    {
     "ename": "OSError",
     "evalue": "Background processes not supported.",
     "output_type": "error",
     "traceback": [
      "\u001b[0;31m---------------------------------------------------------------------------\u001b[0m",
      "\u001b[0;31mOSError\u001b[0m                                   Traceback (most recent call last)",
      "\u001b[0;32m<ipython-input-16-56ecc066e62a>\u001b[0m in \u001b[0;36m<module>\u001b[0;34m()\u001b[0m\n\u001b[1;32m     29\u001b[0m     \u001b[0;32mif\u001b[0m \u001b[0mcleanup\u001b[0m\u001b[0;34m:\u001b[0m\u001b[0;34m\u001b[0m\u001b[0m\n\u001b[1;32m     30\u001b[0m         \u001b[0mget_ipython\u001b[0m\u001b[0;34m(\u001b[0m\u001b[0;34m)\u001b[0m\u001b[0;34m.\u001b[0m\u001b[0msystem\u001b[0m\u001b[0;34m(\u001b[0m\u001b[0;34m'rm -R logs/'\u001b[0m\u001b[0;34m)\u001b[0m\u001b[0;34m\u001b[0m\u001b[0m\n\u001b[0;32m---> 31\u001b[0;31m \u001b[0mTB\u001b[0m\u001b[0;34m(\u001b[0m\u001b[0;34m)\u001b[0m\u001b[0;34m\u001b[0m\u001b[0m\n\u001b[0m",
      "\u001b[0;32m<ipython-input-16-56ecc066e62a>\u001b[0m in \u001b[0;36mTB\u001b[0;34m(cleanup)\u001b[0m\n\u001b[1;32m     25\u001b[0m     \u001b[0mwebbrowser\u001b[0m\u001b[0;34m.\u001b[0m\u001b[0mopen\u001b[0m\u001b[0;34m(\u001b[0m\u001b[0;34m'http://localhost:6006'\u001b[0m\u001b[0;34m)\u001b[0m\u001b[0;34m\u001b[0m\u001b[0m\n\u001b[1;32m     26\u001b[0m \u001b[0;34m\u001b[0m\u001b[0m\n\u001b[0;32m---> 27\u001b[0;31m     \u001b[0mget_ipython\u001b[0m\u001b[0;34m(\u001b[0m\u001b[0;34m)\u001b[0m\u001b[0;34m.\u001b[0m\u001b[0msystem\u001b[0m\u001b[0;34m(\u001b[0m\u001b[0;34m'tensorboard --logdir=\"logs\" &'\u001b[0m\u001b[0;34m)\u001b[0m\u001b[0;34m\u001b[0m\u001b[0m\n\u001b[0m\u001b[1;32m     28\u001b[0m \u001b[0;34m\u001b[0m\u001b[0m\n\u001b[1;32m     29\u001b[0m     \u001b[0;32mif\u001b[0m \u001b[0mcleanup\u001b[0m\u001b[0;34m:\u001b[0m\u001b[0;34m\u001b[0m\u001b[0m\n",
      "\u001b[0;32m~/anaconda3/envs/gti770/lib/python3.6/site-packages/IPython/core/interactiveshell.py\u001b[0m in \u001b[0;36msystem_piped\u001b[0;34m(self, cmd)\u001b[0m\n\u001b[1;32m   2190\u001b[0m             \u001b[0;31m# os.system() or use ip.system=ip.system_raw\u001b[0m\u001b[0;34m\u001b[0m\u001b[0;34m\u001b[0m\u001b[0m\n\u001b[1;32m   2191\u001b[0m             \u001b[0;31m# if they really want a background process.\u001b[0m\u001b[0;34m\u001b[0m\u001b[0;34m\u001b[0m\u001b[0m\n\u001b[0;32m-> 2192\u001b[0;31m             \u001b[0;32mraise\u001b[0m \u001b[0mOSError\u001b[0m\u001b[0;34m(\u001b[0m\u001b[0;34m\"Background processes not supported.\"\u001b[0m\u001b[0;34m)\u001b[0m\u001b[0;34m\u001b[0m\u001b[0m\n\u001b[0m\u001b[1;32m   2193\u001b[0m \u001b[0;34m\u001b[0m\u001b[0m\n\u001b[1;32m   2194\u001b[0m         \u001b[0;31m# we explicitly do NOT return the subprocess status code, because\u001b[0m\u001b[0;34m\u001b[0m\u001b[0;34m\u001b[0m\u001b[0m\n",
      "\u001b[0;31mOSError\u001b[0m: Background processes not supported."
     ]
    }
   ],
   "source": [
    "####### ATTENTION ######\n",
    "# This part of the code is problematic and it may or may not work\n",
    "# If you get stucked here during an execution, you must comment the last line of this cell # TB()\n",
    "# The workaround is to open a terminal and run tensorboard in background....\n",
    "#\n",
    "# Open a Windows / Linux / MacOS terminal\n",
    "#\n",
    "# Activate the conda environment by issuing the following command:\n",
    "# Windows terminal:\n",
    "# C:> activate gti770\n",
    "# (gti770)C:>  # Your prompt should change\n",
    "# \n",
    "# Linux terminal / MacOS terminal:\n",
    "# $ source activate gti770\n",
    "# (gti770)$  # Your prompt should change\n",
    "# Run Tensorboard in background by issuing the following command:\n",
    "#(gti770)$ tensorboard --logdir=\"logs\" &\n",
    "# \n",
    "# Keep the terminal open and open a new tab in your brownser and type the address: http://127.0.0.1:6006\n",
    "\n",
    "\n",
    "\n",
    "def TB(cleanup=False):\n",
    "    import webbrowser\n",
    "    webbrowser.open('http://localhost:6006')\n",
    "\n",
    "    !tensorboard --logdir=\"logs\" &\n",
    "\n",
    "    if cleanup:\n",
    "        !rm -R logs/\n",
    "TB()"
   ]
  },
  {
   "cell_type": "code",
   "execution_count": 17,
   "metadata": {
    "collapsed": true
   },
   "outputs": [],
   "source": [
    "import seaborn as sn\n",
    "import pandas as pd"
   ]
  },
  {
   "cell_type": "code",
   "execution_count": 18,
   "metadata": {
    "collapsed": true
   },
   "outputs": [],
   "source": [
    "from sklearn import svm"
   ]
  },
  {
   "cell_type": "code",
   "execution_count": 19,
   "metadata": {
    "collapsed": true
   },
   "outputs": [],
   "source": [
    "# Probably this part will not work...\n",
    "# We will use the hypopt Python package (pip install hypopt). It's a professional package created specifically for parameter optimization with a validation set. It works with any scikit-learn model out-of-the-box and can be used with Tensorflow, PyTorch, etc. as well.\n",
    "# https://pypi.org/project/hypopt/1.0.0/\n",
    "\n",
    "from hypopt import GridSearch"
   ]
  },
  {
   "cell_type": "code",
   "execution_count": 20,
   "metadata": {},
   "outputs": [
    {
     "name": "stdout",
     "output_type": "stream",
     "text": [
      "Notebook ended\n"
     ]
    }
   ],
   "source": [
    "print(\"Notebook ended\")"
   ]
  },
  {
   "cell_type": "code",
   "execution_count": null,
   "metadata": {
    "collapsed": true
   },
   "outputs": [],
   "source": []
  }
 ],
 "metadata": {
  "kernelspec": {
   "display_name": "Python 3",
   "language": "python",
   "name": "python3"
  },
  "language_info": {
   "codemirror_mode": {
    "name": "ipython",
    "version": 3
   },
   "file_extension": ".py",
   "mimetype": "text/x-python",
   "name": "python",
   "nbconvert_exporter": "python",
   "pygments_lexer": "ipython3",
   "version": "3.6.2"
  }
 },
 "nbformat": 4,
 "nbformat_minor": 2
}
