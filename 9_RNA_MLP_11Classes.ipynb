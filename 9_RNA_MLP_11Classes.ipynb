{
 "cells": [
  {
   "cell_type": "markdown",
   "metadata": {},
   "source": [
    "# GTI770 - Systèmes Intelligents et Apprentissage Machine\n",
    "\n",
    "### Alessandro L. Koerich\n",
    "\n",
    "## Notebook Jupyter - 8_RNA_MLP_11Classes\n",
    "\n",
    "##### Ver.1: July 2018\n",
    "##### Ver.2: March 2019"
   ]
  },
  {
   "cell_type": "markdown",
   "metadata": {},
   "source": [
    "### New Modules to Install:\n",
    "\n",
    "* Open a Windows / Linux / MacOS terminal\n",
    "* Activate the conda environment by issuing the following command:\n",
    "##### C:> activate gti770  or  source activate gti770\n",
    "\n",
    "* Your prompt should change\n",
    "\n",
    "* Install these two modules using pip install:\n",
    "##### (gti770) pip install neptune-cli\n",
    "##### (gti770) pip install livelossplot"
   ]
  },
  {
   "cell_type": "code",
   "execution_count": 1,
   "metadata": {
    "collapsed": true
   },
   "outputs": [],
   "source": [
    "# Imports\n",
    "import numpy as np\n",
    "import time"
   ]
  },
  {
   "cell_type": "code",
   "execution_count": 2,
   "metadata": {
    "collapsed": true
   },
   "outputs": [],
   "source": [
    "from sklearn.preprocessing import MinMaxScaler"
   ]
  },
  {
   "cell_type": "code",
   "execution_count": 3,
   "metadata": {},
   "outputs": [
    {
     "name": "stderr",
     "output_type": "stream",
     "text": [
      "Using TensorFlow backend.\n"
     ]
    }
   ],
   "source": [
    "# Imports from KERAS\n",
    "from keras.models import Sequential\n",
    "from keras.layers import Dense\n",
    "from keras.layers import Activation\n",
    "from keras.utils import np_utils\n",
    "from keras.callbacks import TensorBoard"
   ]
  },
  {
   "cell_type": "code",
   "execution_count": 4,
   "metadata": {
    "collapsed": true
   },
   "outputs": [],
   "source": [
    "from keras import backend as K\n",
    "K.set_image_dim_ordering('th')\n",
    "from keras.callbacks import TensorBoard"
   ]
  },
  {
   "cell_type": "code",
   "execution_count": 5,
   "metadata": {
    "collapsed": true
   },
   "outputs": [],
   "source": [
    "# Imports from TENSOR FLOW\n",
    "import tensorflow as tf"
   ]
  },
  {
   "cell_type": "code",
   "execution_count": 6,
   "metadata": {},
   "outputs": [
    {
     "name": "stdout",
     "output_type": "stream",
     "text": [
      "b'Hello, TensorFlow!'\n"
     ]
    }
   ],
   "source": [
    "# Testing the installation of Tensor Flow\n",
    "hello = tf.constant('Hello, TensorFlow!')\n",
    "hello = tf.constant('Hello, TensorFlow!')\n",
    "sess  = tf.Session()\n",
    "print(sess.run(hello))"
   ]
  },
  {
   "cell_type": "code",
   "execution_count": 7,
   "metadata": {},
   "outputs": [
    {
     "name": "stdout",
     "output_type": "stream",
     "text": [
      "/bin/sh: tensorboard: command not found\r\n"
     ]
    }
   ],
   "source": [
    "####### ATTENTION ######\n",
    "# This part of the code is problematic and it may or may not work\n",
    "# If you get stucked here during an execution, you must comment the last line of this cell # TB()\n",
    "# The workaround is to open a terminal and run tensorboard in background....\n",
    "#\n",
    "# Open a Windows / Linux / MacOS terminal\n",
    "#\n",
    "# Activate the conda environment by issuing the following command:\n",
    "# Windows terminal:\n",
    "# C:> activate gti770\n",
    "# (gti770)C:>  # Your prompt should change\n",
    "# \n",
    "# Linux terminal / MacOS terminal:\n",
    "# $ source activate gti770\n",
    "# (gti770)$  # Your prompt should change\n",
    "# Run Tensorboard in background by issuing the following command:\n",
    "#(gti770)$ tensorboard --logdir=\"logs\" &\n",
    "# \n",
    "# Keep the terminal open and open a new tab in your brownser and type the address: http://127.0.0.1:6006\n",
    "\n",
    "def TB(cleanup=False):\n",
    "    import webbrowser\n",
    "    webbrowser.open('http://127.0.0.1:6026')\n",
    "\n",
    "    !tensorboard --logdir=\"logs\"\n",
    "\n",
    "    if cleanup:\n",
    "        !rm -R logs/\n",
    "TB()"
   ]
  },
  {
   "cell_type": "code",
   "execution_count": 8,
   "metadata": {
    "collapsed": true
   },
   "outputs": [],
   "source": [
    "# Code for avoiding keras + tensorflow from using all memory:\n",
    "# Similar to the solution above, but also need to manually setup the session on Keras back-end:\n",
    "import tensorflow as tf\n",
    "# config = tf.ConfigProto(device_count = {'GPU': 2})\n",
    "config = tf.ConfigProto()\n",
    "config.gpu_options.allow_growth = True\n",
    "sess = tf.Session(config=config)\n",
    "import keras.backend.tensorflow_backend as tf_bkend\n",
    "tf_bkend.set_session(sess)\n",
    "####################"
   ]
  },
  {
   "cell_type": "code",
   "execution_count": 9,
   "metadata": {
    "collapsed": true
   },
   "outputs": [],
   "source": [
    "# fix random seed for reproducibility\n",
    "seed = 7\n",
    "np.random.seed(seed)"
   ]
  },
  {
   "cell_type": "code",
   "execution_count": 10,
   "metadata": {
    "collapsed": true
   },
   "outputs": [],
   "source": [
    "# Load TRAIN, TEST, UNKNOWN CLASS data from files\n",
    "# Numeric inputs and outputs\n",
    "# load data from file\n",
    "\n",
    "rnaNNSTrainData = np.loadtxt('CSV_Files/rnaNNSTrain.csv', delimiter=' ', dtype=np.str)\n",
    "rnaNNSValidData = np.loadtxt('CSV_Files/rnaNNSValid.csv', delimiter=' ', dtype=np.str)\n",
    "\n",
    "# Separate inputs (features) from outputs (labels)\n",
    "# last 11 columns = class labels (one-hot-encoding)\n",
    "\n",
    "Xtrain = rnaNNSTrainData[0:183,0:42].astype(np.float)\n",
    "Ytrain = rnaNNSTrainData[0:183,42:53].astype(np.int)\n",
    "\n",
    "Xvalid = rnaNNSValidData[0:163,0:42].astype(np.float)\n",
    "Yvalid = rnaNNSValidData[0:163,42:53].astype(np.int)"
   ]
  },
  {
   "cell_type": "code",
   "execution_count": 11,
   "metadata": {},
   "outputs": [
    {
     "data": {
      "text/plain": [
       "array([[0.443478, 0.06735 , 0.777983, ..., 0.551845, 0.549144, 0.549144],\n",
       "       [0.290881, 0.09395 , 0.871281, ..., 0.869442, 0.872507, 0.872507],\n",
       "       [0.335478, 0.156931, 0.624809, ..., 0.649906, 0.664052, 0.664052],\n",
       "       ...,\n",
       "       [0.377061, 0.372347, 0.557439, ..., 0.473047, 0.446275, 0.446275],\n",
       "       [0.404909, 0.152636, 0.721557, ..., 0.414884, 0.384352, 0.384352],\n",
       "       [0.564511, 0.494883, 0.314939, ..., 0.281042, 0.298986, 0.298986]])"
      ]
     },
     "execution_count": 11,
     "metadata": {},
     "output_type": "execute_result"
    }
   ],
   "source": [
    "Xtrain\n",
    "# 42 columns = inputs"
   ]
  },
  {
   "cell_type": "code",
   "execution_count": 12,
   "metadata": {},
   "outputs": [
    {
     "data": {
      "text/plain": [
       "array([[1, 0, 0, ..., 0, 0, 0],\n",
       "       [1, 0, 0, ..., 0, 0, 0],\n",
       "       [1, 0, 0, ..., 0, 0, 0],\n",
       "       ...,\n",
       "       [0, 0, 0, ..., 0, 0, 0],\n",
       "       [0, 0, 1, ..., 0, 0, 0],\n",
       "       [0, 1, 0, ..., 0, 0, 0]])"
      ]
     },
     "execution_count": 12,
     "metadata": {},
     "output_type": "execute_result"
    }
   ],
   "source": [
    "Ytrain\n",
    "# 11 columns = outputs"
   ]
  },
  {
   "cell_type": "raw",
   "metadata": {},
   "source": [
    "# normalize the data\n",
    "scaler = MinMaxScaler(feature_range=(0, 1))\n",
    "Xtrain = scaler.fit_transform(Xtrain)\n",
    "Xvalid = scaler.fit_transform(Xvalid)"
   ]
  },
  {
   "cell_type": "code",
   "execution_count": 13,
   "metadata": {
    "collapsed": true
   },
   "outputs": [],
   "source": [
    "num_classes = Ytrain.shape[1]\n",
    "input_dim   = Xtrain.shape[1]"
   ]
  },
  {
   "cell_type": "code",
   "execution_count": 14,
   "metadata": {},
   "outputs": [
    {
     "data": {
      "text/plain": [
       "42"
      ]
     },
     "execution_count": 14,
     "metadata": {},
     "output_type": "execute_result"
    }
   ],
   "source": [
    "input_dim"
   ]
  },
  {
   "cell_type": "code",
   "execution_count": 15,
   "metadata": {},
   "outputs": [
    {
     "data": {
      "text/plain": [
       "11"
      ]
     },
     "execution_count": 15,
     "metadata": {},
     "output_type": "execute_result"
    }
   ],
   "source": [
    "num_classes"
   ]
  },
  {
   "cell_type": "code",
   "execution_count": 16,
   "metadata": {
    "collapsed": true
   },
   "outputs": [],
   "source": [
    "def twolayer_model():\n",
    "    print(\"Two-Layer NN\\n\")\n",
    "    # create model\n",
    "    model = Sequential()\n",
    "    model.add(Dense(output_dim=num_classes, input_dim=input_dim))\n",
    "    model.add(Activation('sigmoid'))\n",
    "    model.summary()\n",
    "\n",
    "    # Compile model\n",
    "    model.compile(loss='categorical_crossentropy', optimizer='adam', metrics=['accuracy'] )\n",
    "    return model"
   ]
  },
  {
   "cell_type": "code",
   "execution_count": 21,
   "metadata": {
    "collapsed": true
   },
   "outputs": [],
   "source": [
    "def threelayer_model():\n",
    "    # create model\n",
    "    print(\"Three-Layer NN with 50 hidden neurons\\n\")\n",
    "    model = Sequential()\n",
    "    model.add(Dense(50, input_dim=input_dim))\n",
    "    model.add(Activation('sigmoid'))\n",
    "    model.add(Dense(num_classes))\n",
    "    model.add(Activation('softmax'))\n",
    "    model.summary()\n",
    "\n",
    "    # Compile model\n",
    "    model.compile(loss='categorical_crossentropy', optimizer='adam', metrics=['accuracy'] )\n",
    "    return model"
   ]
  },
  {
   "cell_type": "code",
   "execution_count": null,
   "metadata": {
    "collapsed": true
   },
   "outputs": [],
   "source": [
    "def fourlayer_model():\n",
    "    # create model\n",
    "    print(\"Four-Layer NN with 100 and hidden neurons\\n\")\n",
    "    model = Sequential()\n",
    "    model.add(Dense(100, input_dim=input_dim))\n",
    "    model.add(Activation('sigmoid'))\n",
    "    model.add(Dense(50))\n",
    "    model.add(Activation('sigmoid'))\n",
    "    model.add(Dense(num_classes))\n",
    "    model.add(Activation('softmax'))\n",
    "    model.summary()\n",
    "\n",
    "    # Compile model\n",
    "    model.compile(loss='categorical_crossentropy', optimizer='adam', metrics=['accuracy'] )\n",
    "    return model"
   ]
  },
  {
   "cell_type": "code",
   "execution_count": 22,
   "metadata": {},
   "outputs": [
    {
     "name": "stdout",
     "output_type": "stream",
     "text": [
      "Three-Layer NN with 50 hidden neurons\n",
      "\n",
      "_________________________________________________________________\n",
      "Layer (type)                 Output Shape              Param #   \n",
      "=================================================================\n",
      "dense_2 (Dense)              (None, 50)                2150      \n",
      "_________________________________________________________________\n",
      "activation_2 (Activation)    (None, 50)                0         \n",
      "_________________________________________________________________\n",
      "dense_3 (Dense)              (None, 11)                561       \n",
      "_________________________________________________________________\n",
      "activation_3 (Activation)    (None, 11)                0         \n",
      "=================================================================\n",
      "Total params: 2,711\n",
      "Trainable params: 2,711\n",
      "Non-trainable params: 0\n",
      "_________________________________________________________________\n"
     ]
    }
   ],
   "source": [
    "# Build the model\n",
    "# Choose one at each time\n",
    "\n",
    "# model = twolayer_model()\n",
    "model = threelayer_model()\n",
    "# model = fourlayer_model()\n",
    "\n",
    "# Choose the number of learning cycles and the batch size\n",
    "num_cycles = 5000\n",
    "mini_batch = 183"
   ]
  },
  {
   "cell_type": "code",
   "execution_count": 23,
   "metadata": {
    "collapsed": true
   },
   "outputs": [],
   "source": [
    "# Create variables to Tensorboard tracing\n",
    "now = time.strftime(\"%c\")\n",
    "tbcallback = TensorBoard(log_dir='./logs/'+now, histogram_freq=0, write_graph=True, write_images=True )"
   ]
  },
  {
   "cell_type": "code",
   "execution_count": 24,
   "metadata": {},
   "outputs": [
    {
     "name": "stdout",
     "output_type": "stream",
     "text": [
      "weights_RNA_MLP_11.best.hdf5\n"
     ]
    }
   ],
   "source": [
    "# Create a checkpoint to store the best model \n",
    "\n",
    "from keras.callbacks import ModelCheckpoint\n",
    "from livelossplot    import PlotLossesKeras\n",
    "\n",
    "# Checkpoints \n",
    "filepath   = \"weights_RNA_MLP_11.best.hdf5\"\n",
    "print( filepath )\n",
    "\n",
    "checkpoint = ModelCheckpoint(filepath, monitor = 'val_acc', verbose = 1, save_best_only = True, mode = 'max') \n",
    "\n",
    "callbacks_list = [tbcallback, checkpoint, PlotLossesKeras()]"
   ]
  },
  {
   "cell_type": "code",
   "execution_count": 25,
   "metadata": {},
   "outputs": [
    {
     "data": {
      "image/png": "[encoded data removed]",
      "text/plain": [
       "<Figure size 864x576 with 2 Axes>"
      ]
     },
     "metadata": {},
     "output_type": "display_data"
    },
    {
     "name": "stdout",
     "output_type": "stream",
     "text": [
      "Log-loss (cost function):\n",
      "training   (min:    0.028, max:    2.943, cur:    0.028)\n",
      "validation (min:    0.824, max:    2.913, cur:    1.157)\n",
      "\n",
      "Accuracy:\n",
      "training   (min:    0.044, max:    1.000, cur:    1.000)\n",
      "validation (min:    0.037, max:    0.755, cur:    0.755)\n"
     ]
    },
    {
     "data": {
      "text/plain": [
       "<keras.callbacks.History at 0x146c4ea90>"
      ]
     },
     "execution_count": 25,
     "metadata": {},
     "output_type": "execute_result"
    }
   ],
   "source": [
    "# Fit the model (TRAIN)\n",
    "model.fit(Xtrain, Ytrain, validation_data=(Xvalid, Yvalid),\n",
    "          epochs=num_cycles, batch_size=mini_batch, callbacks=callbacks_list )"
   ]
  },
  {
   "cell_type": "code",
   "execution_count": null,
   "metadata": {
    "collapsed": true
   },
   "outputs": [],
   "source": [
    "# Final evaluation of the model (On the Training, Validation or Test dataset)\n",
    "scores = model.evaluate(Xvalid, Yvalid, verbose=0)\n",
    "print(\"Error on the validation dataset: %.2f%%\" % (100-scores[1]*100))\n",
    "scores = model.evaluate(Xtrain, Ytrain, verbose=0)\n",
    "print(\"Error on the training dataset: %.2f%%\" % (100-scores[1]*100))"
   ]
  },
  {
   "cell_type": "code",
   "execution_count": null,
   "metadata": {
    "collapsed": true
   },
   "outputs": [],
   "source": [
    "def get_confusion_matrix_one_hot(model_results, truth):\n",
    "    '''model_results and truth should be for one-hot format, i.e, have >= 2 columns,\n",
    "    where truth is 0/1, and max along each row of model_results is model result\n",
    "    '''\n",
    "    assert model_results.shape == truth.shape\n",
    "    num_outputs = truth.shape[1]\n",
    "    confusion_matrix = np.zeros((num_outputs, num_outputs), dtype=np.int32)\n",
    "    predictions = np.argmax(model_results,axis=1)\n",
    "    assert len(predictions)==truth.shape[0]\n",
    "\n",
    "    for actual_class in range(num_outputs):\n",
    "        idx_examples_this_class = truth[:,actual_class]==1\n",
    "        prediction_for_this_class = predictions[idx_examples_this_class]\n",
    "        for predicted_class in range(num_outputs):\n",
    "            count = np.sum(prediction_for_this_class==predicted_class)\n",
    "            confusion_matrix[actual_class, predicted_class] = count\n",
    "    assert np.sum(confusion_matrix)==len(truth)\n",
    "    assert np.sum(confusion_matrix)==np.sum(truth)\n",
    "    return confusion_matrix"
   ]
  },
  {
   "cell_type": "code",
   "execution_count": null,
   "metadata": {
    "collapsed": true
   },
   "outputs": [],
   "source": [
    "# Predict and show the confusion matrix (For the Validation dataset)\n",
    "predict = model.predict(Xvalid)\n",
    "confusion_matrix = get_confusion_matrix_one_hot(predict, Yvalid)"
   ]
  },
  {
   "cell_type": "code",
   "execution_count": null,
   "metadata": {
    "collapsed": true
   },
   "outputs": [],
   "source": [
    "import seaborn as sn\n",
    "import pandas as pd\n",
    "import matplotlib.pyplot as plt"
   ]
  },
  {
   "cell_type": "code",
   "execution_count": null,
   "metadata": {
    "collapsed": true
   },
   "outputs": [],
   "source": [
    "df_cm = pd.DataFrame(confusion_matrix, index = [i for i in \"ABCDEFGHIJK\"], columns = [i for i in \"ABCDEFGHIJK\"])\n",
    "plt.figure(figsize = (10,7))\n",
    "sn.heatmap(df_cm, annot=True)\n",
    "plt.show()"
   ]
  },
  {
   "cell_type": "code",
   "execution_count": null,
   "metadata": {
    "collapsed": true
   },
   "outputs": [],
   "source": [
    "print(\"Notebook ended\")"
   ]
  },
  {
   "cell_type": "code",
   "execution_count": null,
   "metadata": {
    "collapsed": true
   },
   "outputs": [],
   "source": []
  }
 ],
 "metadata": {
  "kernelspec": {
   "display_name": "Python 3",
   "language": "python",
   "name": "python3"
  },
  "language_info": {
   "codemirror_mode": {
    "name": "ipython",
    "version": 3
   },
   "file_extension": ".py",
   "mimetype": "text/x-python",
   "name": "python",
   "nbconvert_exporter": "python",
   "pygments_lexer": "ipython3",
   "version": "3.6.2"
  }
 },
 "nbformat": 4,
 "nbformat_minor": 2
}
