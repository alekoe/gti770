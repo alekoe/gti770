{
 "cells": [
  {
   "cell_type": "markdown",
   "metadata": {},
   "source": [
    "GTI770 - Systèmes Intelligents et Apprentissage Machine\n",
    "\n",
    "Alessandro L. Koerich\n",
    "\n",
    "Notebook Jupyter - 10_SVM_11Classes\n",
    "\n",
    "July 2018"
   ]
  },
  {
   "cell_type": "code",
   "execution_count": 37,
   "metadata": {
    "collapsed": true,
    "scrolled": true
   },
   "outputs": [],
   "source": [
    "from sklearn.preprocessing import MinMaxScaler\n",
    "from sklearn import svm\n",
    "import numpy as np"
   ]
  },
  {
   "cell_type": "code",
   "execution_count": 38,
   "metadata": {
    "collapsed": true,
    "scrolled": true
   },
   "outputs": [],
   "source": [
    "# fix random seed for reproducibility\n",
    "seed = 7\n",
    "np.random.seed(seed)"
   ]
  },
  {
   "cell_type": "code",
   "execution_count": 39,
   "metadata": {
    "collapsed": true,
    "scrolled": true
   },
   "outputs": [],
   "source": [
    "# Load TRAIN, TEST, UNKNOWN CLASS data from files\n",
    "# Numeric inputs and outputs\n",
    "# load data from file\n",
    "\n",
    "rnaNNSTrainData = np.loadtxt('CSV_Files/rnaNNSTrain.csv', delimiter=' ', dtype=np.str)\n",
    "rnaNNSValidData = np.loadtxt('CSV_Files/rnaNNSValid.csv', delimiter=' ', dtype=np.str)\n",
    "\n",
    "# Separate inputs (features) from outputs (labels)\n",
    "# last 11 columns = class labels (one-hot-encoding)\n",
    "\n",
    "Xtrain=rnaNNSTrainData[0:183,0:42].astype(np.float)\n",
    "Ytrain=rnaNNSTrainData[0:183,42:53].astype(np.int)\n",
    "\n",
    "Xvalid=rnaNNSValidData[0:163,0:42].astype(np.float)\n",
    "Yvalid=rnaNNSValidData[0:163,42:53].astype(np.int)"
   ]
  },
  {
   "cell_type": "code",
   "execution_count": 41,
   "metadata": {
    "scrolled": true
   },
   "outputs": [
    {
     "data": {
      "text/plain": [
       "array([[0.44, 0.07, 0.78, ..., 0.55, 0.55, 0.55],\n",
       "       [0.29, 0.09, 0.87, ..., 0.87, 0.87, 0.87],\n",
       "       [0.34, 0.16, 0.62, ..., 0.65, 0.66, 0.66],\n",
       "       ...,\n",
       "       [0.38, 0.37, 0.56, ..., 0.47, 0.45, 0.45],\n",
       "       [0.4 , 0.15, 0.72, ..., 0.41, 0.38, 0.38],\n",
       "       [0.56, 0.49, 0.31, ..., 0.28, 0.3 , 0.3 ]])"
      ]
     },
     "execution_count": 41,
     "metadata": {},
     "output_type": "execute_result"
    }
   ],
   "source": [
    "# 42 columns = inputs\n",
    "Xtrain"
   ]
  },
  {
   "cell_type": "code",
   "execution_count": 42,
   "metadata": {
    "scrolled": true
   },
   "outputs": [
    {
     "data": {
      "text/plain": [
       "array([[1, 0, 0, ..., 0, 0, 0],\n",
       "       [1, 0, 0, ..., 0, 0, 0],\n",
       "       [1, 0, 0, ..., 0, 0, 0],\n",
       "       ...,\n",
       "       [0, 0, 0, ..., 0, 0, 0],\n",
       "       [0, 0, 1, ..., 0, 0, 0],\n",
       "       [0, 1, 0, ..., 0, 0, 0]])"
      ]
     },
     "execution_count": 42,
     "metadata": {},
     "output_type": "execute_result"
    }
   ],
   "source": [
    "# 11 columns = outputs\n",
    "Ytrain"
   ]
  },
  {
   "cell_type": "code",
   "execution_count": 43,
   "metadata": {
    "collapsed": true,
    "scrolled": true
   },
   "outputs": [],
   "source": [
    "# For the SVM we need a single label instead of binary (OHE) outputs\n",
    "from numpy import argmax\n",
    "Ytrain2 = argmax(Ytrain, axis=1)\n",
    "Yvalid2 = argmax(Yvalid, axis=1)"
   ]
  },
  {
   "cell_type": "code",
   "execution_count": 44,
   "metadata": {
    "collapsed": true,
    "scrolled": true
   },
   "outputs": [],
   "source": [
    "# normalize the data\n",
    "scaler = MinMaxScaler(feature_range=(0, 1))\n",
    "Xtrain = scaler.fit_transform(Xtrain)\n",
    "Xvalid = scaler.fit_transform(Xvalid)"
   ]
  },
  {
   "cell_type": "code",
   "execution_count": 45,
   "metadata": {
    "scrolled": true
   },
   "outputs": [
    {
     "data": {
      "text/plain": [
       "array([ 0,  0,  0,  0,  0,  0,  0,  0,  0,  0,  0,  0,  0,  0,  0,  0,  0,\n",
       "        1,  1,  1,  1,  1,  1,  1,  1,  1,  1,  1,  1,  1,  1,  1,  1,  1,\n",
       "        1,  2,  2,  2,  2,  2,  2,  2,  2,  2,  2,  2,  3,  3,  3,  3,  3,\n",
       "        3,  3,  3,  3,  3,  3,  3,  3,  3,  3,  3,  3,  3,  3,  4,  4,  4,\n",
       "        4,  4,  4,  4,  4,  4,  4,  4,  4,  4,  4,  5,  5,  5,  5,  5,  5,\n",
       "        5,  5,  6,  6,  6,  6,  6,  6,  6,  6,  6,  6,  6,  6,  7,  7,  7,\n",
       "        7,  7,  7,  7,  7,  7,  8,  8,  8,  8,  8,  8,  8,  8,  8,  8,  8,\n",
       "        8,  8,  8,  8,  8,  8,  8,  8,  8,  8,  8,  9,  9,  9,  9,  9,  9,\n",
       "        9,  9,  9,  9,  9,  9,  9,  9,  9,  9,  9,  9,  9,  9,  9,  9, 10,\n",
       "       10, 10, 10, 10, 10, 10, 10, 10, 10, 10, 10, 10, 10, 10, 10, 10, 10,\n",
       "       10, 10, 10, 10, 10,  9,  8,  7,  4,  5,  3,  2,  1])"
      ]
     },
     "execution_count": 45,
     "metadata": {},
     "output_type": "execute_result"
    }
   ],
   "source": [
    "Ytrain2"
   ]
  },
  {
   "cell_type": "code",
   "execution_count": 46,
   "metadata": {
    "collapsed": true,
    "scrolled": true
   },
   "outputs": [],
   "source": [
    "num_classes = Ytrain.shape[1]\n",
    "input_dim = Xtrain.shape[1]"
   ]
  },
  {
   "cell_type": "code",
   "execution_count": 47,
   "metadata": {
    "scrolled": true
   },
   "outputs": [
    {
     "data": {
      "text/plain": [
       "42"
      ]
     },
     "execution_count": 47,
     "metadata": {},
     "output_type": "execute_result"
    }
   ],
   "source": [
    "input_dim"
   ]
  },
  {
   "cell_type": "code",
   "execution_count": 48,
   "metadata": {
    "scrolled": true
   },
   "outputs": [
    {
     "data": {
      "text/plain": [
       "11"
      ]
     },
     "execution_count": 48,
     "metadata": {},
     "output_type": "execute_result"
    }
   ],
   "source": [
    "num_classes"
   ]
  },
  {
   "cell_type": "code",
   "execution_count": 49,
   "metadata": {
    "collapsed": true,
    "scrolled": true
   },
   "outputs": [],
   "source": [
    "def linearSVM_model():\n",
    "    print(\"SVM with Linear Kernel\\n\")\n",
    "    # create model\n",
    "    model = svm.SVC(C=1.0, cache_size=200, class_weight=None, coef0=0.0,\n",
    "    decision_function_shape='ovo', degree=1, gamma='auto', kernel='linear',\n",
    "    max_iter=-1, probability=True, random_state=None, shrinking=True,\n",
    "    tol=0.001, verbose=True)\n",
    "\n",
    "    return model"
   ]
  },
  {
   "cell_type": "code",
   "execution_count": 50,
   "metadata": {
    "scrolled": true
   },
   "outputs": [
    {
     "name": "stdout",
     "output_type": "stream",
     "text": [
      "SVM with Linear Kernel\n",
      "\n"
     ]
    }
   ],
   "source": [
    "# Build the model\n",
    "# Choose one at each time\n",
    "model = linearSVM_model()"
   ]
  },
  {
   "cell_type": "code",
   "execution_count": 52,
   "metadata": {
    "scrolled": true
   },
   "outputs": [
    {
     "name": "stdout",
     "output_type": "stream",
     "text": [
      "[LibSVM]"
     ]
    },
    {
     "data": {
      "text/plain": [
       "SVC(C=1.0, cache_size=200, class_weight=None, coef0=0.0,\n",
       "  decision_function_shape='ovo', degree=1, gamma='auto', kernel='linear',\n",
       "  max_iter=-1, probability=True, random_state=None, shrinking=True,\n",
       "  tol=0.001, verbose=True)"
      ]
     },
     "execution_count": 52,
     "metadata": {},
     "output_type": "execute_result"
    }
   ],
   "source": [
    "# Fit the model (TRAIN)\n",
    "model.fit(Xtrain, Ytrain2)"
   ]
  },
  {
   "cell_type": "code",
   "execution_count": 53,
   "metadata": {
    "scrolled": true
   },
   "outputs": [
    {
     "data": {
      "text/plain": [
       "array([ 0,  0,  0,  0,  0, 10,  0,  0, 10, 10, 10, 10, 10, 10,  0, 10,  1,\n",
       "        1,  1,  1,  1,  1,  1,  8,  1,  1,  1,  2,  1,  1,  8,  1,  9,  0,\n",
       "        2,  9, 10,  8,  9, 10,  8, 10,  3,  9,  3,  9,  3,  9,  9,  3,  4,\n",
       "        3,  9,  3,  3,  9,  9,  9,  9,  9,  9,  4,  6,  6,  4,  9,  4,  4,\n",
       "        4,  1,  4,  4,  9,  4, 10, 10, 10, 10, 10, 10,  3,  4,  6,  9,  4,\n",
       "        3,  4,  9,  4,  4,  4,  9,  4,  9,  7,  7, 10,  7,  9,  9,  1,  1,\n",
       "        1,  1,  8,  8,  1,  8,  8,  8,  9,  8,  8,  8,  8,  8,  8,  8,  8,\n",
       "        8,  9,  1,  4,  1,  9,  8,  9,  9,  9,  9,  9,  9,  9,  9,  9,  9,\n",
       "        9,  9,  9,  9,  9,  4,  9, 10, 10, 10, 10, 10, 10, 10, 10, 10, 10,\n",
       "       10, 10, 10, 10, 10, 10,  9, 10,  9, 10])"
      ]
     },
     "execution_count": 53,
     "metadata": {},
     "output_type": "execute_result"
    }
   ],
   "source": [
    "# Use the model to predict the class of samples\n",
    "# Notice that we are testing the train dataset\n",
    "Ytrain_pred = model.predict(Xtrain)\n",
    "Ytrain_pred\n",
    "\n",
    "Yvalid_pred = model.predict(Xvalid)\n",
    "Yvalid_pred"
   ]
  },
  {
   "cell_type": "code",
   "execution_count": 55,
   "metadata": {
    "scrolled": true
   },
   "outputs": [
    {
     "data": {
      "text/plain": [
       "array([[0.66, 0.01, 0.03, ..., 0.03, 0.01, 0.21],\n",
       "       [0.78, 0.  , 0.01, ..., 0.  , 0.  , 0.19],\n",
       "       [0.47, 0.01, 0.01, ..., 0.  , 0.01, 0.29],\n",
       "       ...,\n",
       "       [0.03, 0.02, 0.11, ..., 0.01, 0.11, 0.39],\n",
       "       [0.02, 0.02, 0.08, ..., 0.02, 0.38, 0.13],\n",
       "       [0.06, 0.03, 0.13, ..., 0.02, 0.13, 0.38]])"
      ]
     },
     "execution_count": 55,
     "metadata": {},
     "output_type": "execute_result"
    }
   ],
   "source": [
    "# You can also predict the probability of each class\n",
    "# train dataset\n",
    "Ytrain_pred_prob = model.predict_proba(Xtrain)\n",
    "Ytrain_pred_prob\n",
    "\n",
    "Yvalid_pred_prob = model.predict_proba(Xvalid)\n",
    "Yvalid_pred_prob"
   ]
  },
  {
   "cell_type": "code",
   "execution_count": 56,
   "metadata": {
    "scrolled": true
   },
   "outputs": [
    {
     "name": "stdout",
     "output_type": "stream",
     "text": [
      "Correct classification rate for the training dataset = 65.57377049180327%\n",
      "Correct classification rate for the validation dataset = 55.21472392638037%\n"
     ]
    }
   ],
   "source": [
    "# Evaluation metrics\n",
    "from sklearn.metrics import accuracy_score\n",
    "from sklearn.metrics import confusion_matrix\n",
    "\n",
    "# Final evaluation of the model (On the Training, Validation or Test dataset)\n",
    "scores = accuracy_score(Ytrain2, Ytrain_pred )\n",
    "print(\"Correct classification rate for the training dataset = \"+str(scores*100)+\"%\")\n",
    "\n",
    "scores2 = accuracy_score(Yvalid2, Yvalid_pred )\n",
    "print(\"Correct classification rate for the validation dataset = \"+str(scores2*100)+\"%\")"
   ]
  },
  {
   "cell_type": "code",
   "execution_count": 57,
   "metadata": {
    "scrolled": true
   },
   "outputs": [
    {
     "name": "stdout",
     "output_type": "stream",
     "text": [
      "              precision    recall  f1-score   support\n",
      "\n",
      "           0       0.89      0.50      0.64        16\n",
      "           1       0.62      0.81      0.70        16\n",
      "           2       0.50      0.10      0.17        10\n",
      "           3       0.78      0.39      0.52        18\n",
      "           4       0.44      0.57      0.50        14\n",
      "           5       0.00      0.00      0.00         6\n",
      "           6       0.33      0.08      0.12        13\n",
      "           7       1.00      0.43      0.60         7\n",
      "           8       0.74      0.64      0.68        22\n",
      "           9       0.40      0.81      0.53        21\n",
      "          10       0.50      0.90      0.64        20\n",
      "\n",
      "   micro avg       0.55      0.55      0.55       163\n",
      "   macro avg       0.56      0.47      0.46       163\n",
      "weighted avg       0.58      0.55      0.52       163\n",
      "\n"
     ]
    },
    {
     "name": "stderr",
     "output_type": "stream",
     "text": [
      "/Users/akoerich/anaconda3/envs/gti770/lib/python3.6/site-packages/sklearn/metrics/classification.py:1143: UndefinedMetricWarning: Precision and F-score are ill-defined and being set to 0.0 in labels with no predicted samples.\n",
      "  'precision', 'predicted', average, warn_for)\n"
     ]
    }
   ],
   "source": [
    "from sklearn.metrics import classification_report\n",
    "target_names = ['0','1','2','3','4','5','6','7','8','9','10']\n",
    "print( classification_report(Yvalid2, Yvalid_pred, target_names=target_names))\n",
    "# This works, but we have labels with no predicted samples"
   ]
  },
  {
   "cell_type": "code",
   "execution_count": 58,
   "metadata": {
    "collapsed": true,
    "scrolled": true
   },
   "outputs": [],
   "source": [
    "# Predict and show the confusion matrix (For the Validation dataset)\n",
    "cm = confusion_matrix(Yvalid2, Yvalid_pred )"
   ]
  },
  {
   "cell_type": "code",
   "execution_count": 59,
   "metadata": {
    "collapsed": true,
    "scrolled": true
   },
   "outputs": [],
   "source": [
    "import itertools\n",
    "import matplotlib.pyplot as plt"
   ]
  },
  {
   "cell_type": "code",
   "execution_count": 60,
   "metadata": {
    "collapsed": true,
    "scrolled": true
   },
   "outputs": [],
   "source": [
    "def plot_confusion_matrix(cm, classes,\n",
    "                          normalize=False,\n",
    "                          title='Confusion matrix',\n",
    "                          cmap=plt.cm.Blues):\n",
    "    \"\"\"\n",
    "    This function prints and plots the confusion matrix.\n",
    "    Normalization can be applied by setting `normalize=True`.\n",
    "    \"\"\"\n",
    "    if normalize:\n",
    "        cm = cm.astype('float') / cm.sum(axis=1)[:, np.newaxis]\n",
    "        print(\"Normalized confusion matrix\")\n",
    "    else:\n",
    "        print('Confusion matrix, without normalization')\n",
    "\n",
    "    print(cm)\n",
    "\n",
    "    plt.imshow(cm, interpolation='nearest', cmap=cmap, aspect = 'auto')\n",
    "    plt.title(title)\n",
    "    plt.colorbar()\n",
    "    tick_marks = np.arange(len(classes))\n",
    "    plt.xticks(tick_marks, classes, rotation=45)\n",
    "    plt.yticks(tick_marks, classes)\n",
    "\n",
    "    fmt = '.2f' if normalize else 'd'\n",
    "    thresh = cm.max() / 2.\n",
    "    for i, j in itertools.product(range(cm.shape[0]), range(cm.shape[1])):\n",
    "        plt.text(j, i, format(cm[i, j], fmt),\n",
    "                 horizontalalignment=\"center\",\n",
    "                 color=\"white\" if cm[i, j] > thresh else \"black\")\n",
    "\n",
    "    #plt.tight_layout()\n",
    "    plt.ylabel('True label')\n",
    "    plt.xlabel('Predicted label')"
   ]
  },
  {
   "cell_type": "code",
   "execution_count": 61,
   "metadata": {
    "scrolled": true
   },
   "outputs": [
    {
     "name": "stdout",
     "output_type": "stream",
     "text": [
      "Confusion matrix, without normalization\n",
      "[[ 8  0  0  0  0  0  0  0  0  0  8]\n",
      " [ 0 13  1  0  0  0  0  0  2  0  0]\n",
      " [ 1  0  1  0  0  0  0  0  2  3  3]\n",
      " [ 0  0  0  7  1  0  0  0  0 10  0]\n",
      " [ 0  1  0  0  8  0  2  0  0  3  0]\n",
      " [ 0  0  0  0  0  0  0  0  0  0  6]\n",
      " [ 0  0  0  2  7  0  1  0  0  3  0]\n",
      " [ 0  0  0  0  0  0  0  3  0  3  1]\n",
      " [ 0  6  0  0  0  0  0  0 14  2  0]\n",
      " [ 0  1  0  0  2  0  0  0  1 17  0]\n",
      " [ 0  0  0  0  0  0  0  0  0  2 18]]\n"
     ]
    }
   ],
   "source": [
    "np.set_printoptions(precision=2)\n",
    "# Plot non-normalized confusion matrix\n",
    "plt.figure()\n",
    "plot_confusion_matrix(cm, classes = ['0','1','2','3','4','5','6','7','8','9','10'],\n",
    "                      title='Confusion matrix, without normalization')"
   ]
  },
  {
   "cell_type": "code",
   "execution_count": 62,
   "metadata": {
    "scrolled": true
   },
   "outputs": [
    {
     "data": {
      "image/png": "[encoded data removed]",
      "text/plain": [
       "<Figure size 432x288 with 2 Axes>"
      ]
     },
     "metadata": {},
     "output_type": "display_data"
    }
   ],
   "source": [
    "plt.show()"
   ]
  },
  {
   "cell_type": "code",
   "execution_count": 63,
   "metadata": {
    "scrolled": true
   },
   "outputs": [
    {
     "name": "stdout",
     "output_type": "stream",
     "text": [
      "Normalized confusion matrix\n",
      "[[0.5  0.   0.   0.   0.   0.   0.   0.   0.   0.   0.5 ]\n",
      " [0.   0.81 0.06 0.   0.   0.   0.   0.   0.12 0.   0.  ]\n",
      " [0.1  0.   0.1  0.   0.   0.   0.   0.   0.2  0.3  0.3 ]\n",
      " [0.   0.   0.   0.39 0.06 0.   0.   0.   0.   0.56 0.  ]\n",
      " [0.   0.07 0.   0.   0.57 0.   0.14 0.   0.   0.21 0.  ]\n",
      " [0.   0.   0.   0.   0.   0.   0.   0.   0.   0.   1.  ]\n",
      " [0.   0.   0.   0.15 0.54 0.   0.08 0.   0.   0.23 0.  ]\n",
      " [0.   0.   0.   0.   0.   0.   0.   0.43 0.   0.43 0.14]\n",
      " [0.   0.27 0.   0.   0.   0.   0.   0.   0.64 0.09 0.  ]\n",
      " [0.   0.05 0.   0.   0.1  0.   0.   0.   0.05 0.81 0.  ]\n",
      " [0.   0.   0.   0.   0.   0.   0.   0.   0.   0.1  0.9 ]]\n"
     ]
    }
   ],
   "source": [
    "# Plot normalized confusion matrix\n",
    "plt.figure()\n",
    "plot_confusion_matrix(cm, classes = ['0','1','2','3','4','5','6','7','8','9', '10'],\n",
    "                      normalize=True,\n",
    "                      title='Confusion matrix, with normalization')"
   ]
  },
  {
   "cell_type": "code",
   "execution_count": 64,
   "metadata": {
    "scrolled": true
   },
   "outputs": [
    {
     "data": {
      "image/png": "[encoded data removed]",
      "text/plain": [
       "<Figure size 432x288 with 2 Axes>"
      ]
     },
     "metadata": {},
     "output_type": "display_data"
    }
   ],
   "source": [
    "plt.show()"
   ]
  },
  {
   "cell_type": "markdown",
   "metadata": {},
   "source": [
    "- HYPERPARAMETER OPTIMIZATION \n",
    "\n",
    "\n",
    "OK, but we didn't optimize the parameters of the SVM, such as:\n",
    "\n",
    "1) Kernel\n",
    "\n",
    "2) Cost \n",
    "\n",
    "3) Kernel parameters (gamma)\n",
    "\n",
    "So, let's do it now using a Grid Search (5-fold) cross-validation on the training dataset"
   ]
  },
  {
   "cell_type": "code",
   "execution_count": 65,
   "metadata": {
    "collapsed": true,
    "scrolled": true
   },
   "outputs": [],
   "source": [
    "# Set the parameters by cross-validation\n",
    "from sklearn.model_selection import GridSearchCV\n",
    "# tuned_parameters = [{'kernel': ['rbf'], 'gamma': [1e-2, 1e-3, 1e-4, 1e-5], 'C': [1, 10, 100, 1000, 10000]},\n",
    "#                    {'kernel': ['linear'], 'C': [1, 10, 100, 1000, 10000]}]\n",
    "tuned_parameters = [{'kernel': ['linear'], 'C': [1, 10, 100, 1000, 10000]}]\n",
    "\n",
    "\n",
    "metrics = ['precision', 'recall']"
   ]
  },
  {
   "cell_type": "code",
   "execution_count": 66,
   "metadata": {
    "scrolled": true
   },
   "outputs": [
    {
     "name": "stdout",
     "output_type": "stream",
     "text": [
      "# Tuning hyper-parameters for precision\n",
      "\n"
     ]
    },
    {
     "name": "stderr",
     "output_type": "stream",
     "text": [
      "/Users/akoerich/anaconda3/envs/gti770/lib/python3.6/site-packages/sklearn/metrics/classification.py:1143: UndefinedMetricWarning: Precision is ill-defined and being set to 0.0 in labels with no predicted samples.\n",
      "  'precision', 'predicted', average, warn_for)\n",
      "/Users/akoerich/anaconda3/envs/gti770/lib/python3.6/site-packages/sklearn/metrics/classification.py:1143: UndefinedMetricWarning: Precision is ill-defined and being set to 0.0 in labels with no predicted samples.\n",
      "  'precision', 'predicted', average, warn_for)\n",
      "/Users/akoerich/anaconda3/envs/gti770/lib/python3.6/site-packages/sklearn/metrics/classification.py:1143: UndefinedMetricWarning: Precision is ill-defined and being set to 0.0 in labels with no predicted samples.\n",
      "  'precision', 'predicted', average, warn_for)\n",
      "/Users/akoerich/anaconda3/envs/gti770/lib/python3.6/site-packages/sklearn/metrics/classification.py:1143: UndefinedMetricWarning: Precision is ill-defined and being set to 0.0 in labels with no predicted samples.\n",
      "  'precision', 'predicted', average, warn_for)\n",
      "/Users/akoerich/anaconda3/envs/gti770/lib/python3.6/site-packages/sklearn/metrics/classification.py:1143: UndefinedMetricWarning: Precision is ill-defined and being set to 0.0 in labels with no predicted samples.\n",
      "  'precision', 'predicted', average, warn_for)\n",
      "/Users/akoerich/anaconda3/envs/gti770/lib/python3.6/site-packages/sklearn/metrics/classification.py:1143: UndefinedMetricWarning: Precision is ill-defined and being set to 0.0 in labels with no predicted samples.\n",
      "  'precision', 'predicted', average, warn_for)\n",
      "/Users/akoerich/anaconda3/envs/gti770/lib/python3.6/site-packages/sklearn/metrics/classification.py:1143: UndefinedMetricWarning: Precision is ill-defined and being set to 0.0 in labels with no predicted samples.\n",
      "  'precision', 'predicted', average, warn_for)\n",
      "/Users/akoerich/anaconda3/envs/gti770/lib/python3.6/site-packages/sklearn/metrics/classification.py:1143: UndefinedMetricWarning: Precision is ill-defined and being set to 0.0 in labels with no predicted samples.\n",
      "  'precision', 'predicted', average, warn_for)\n",
      "/Users/akoerich/anaconda3/envs/gti770/lib/python3.6/site-packages/sklearn/metrics/classification.py:1143: UndefinedMetricWarning: Precision is ill-defined and being set to 0.0 in labels with no predicted samples.\n",
      "  'precision', 'predicted', average, warn_for)\n",
      "/Users/akoerich/anaconda3/envs/gti770/lib/python3.6/site-packages/sklearn/metrics/classification.py:1143: UndefinedMetricWarning: Precision is ill-defined and being set to 0.0 in labels with no predicted samples.\n",
      "  'precision', 'predicted', average, warn_for)\n",
      "/Users/akoerich/anaconda3/envs/gti770/lib/python3.6/site-packages/sklearn/metrics/classification.py:1143: UndefinedMetricWarning: Precision is ill-defined and being set to 0.0 in labels with no predicted samples.\n",
      "  'precision', 'predicted', average, warn_for)\n",
      "/Users/akoerich/anaconda3/envs/gti770/lib/python3.6/site-packages/sklearn/metrics/classification.py:1143: UndefinedMetricWarning: Precision is ill-defined and being set to 0.0 in labels with no predicted samples.\n",
      "  'precision', 'predicted', average, warn_for)\n",
      "/Users/akoerich/anaconda3/envs/gti770/lib/python3.6/site-packages/sklearn/metrics/classification.py:1143: UndefinedMetricWarning: Precision is ill-defined and being set to 0.0 in labels with no predicted samples.\n",
      "  'precision', 'predicted', average, warn_for)\n",
      "/Users/akoerich/anaconda3/envs/gti770/lib/python3.6/site-packages/sklearn/metrics/classification.py:1143: UndefinedMetricWarning: Precision is ill-defined and being set to 0.0 in labels with no predicted samples.\n",
      "  'precision', 'predicted', average, warn_for)\n",
      "/Users/akoerich/anaconda3/envs/gti770/lib/python3.6/site-packages/sklearn/metrics/classification.py:1143: UndefinedMetricWarning: Precision is ill-defined and being set to 0.0 in labels with no predicted samples.\n",
      "  'precision', 'predicted', average, warn_for)\n",
      "/Users/akoerich/anaconda3/envs/gti770/lib/python3.6/site-packages/sklearn/metrics/classification.py:1143: UndefinedMetricWarning: Precision is ill-defined and being set to 0.0 in labels with no predicted samples.\n",
      "  'precision', 'predicted', average, warn_for)\n",
      "/Users/akoerich/anaconda3/envs/gti770/lib/python3.6/site-packages/sklearn/metrics/classification.py:1143: UndefinedMetricWarning: Precision is ill-defined and being set to 0.0 in labels with no predicted samples.\n",
      "  'precision', 'predicted', average, warn_for)\n",
      "/Users/akoerich/anaconda3/envs/gti770/lib/python3.6/site-packages/sklearn/metrics/classification.py:1143: UndefinedMetricWarning: Precision is ill-defined and being set to 0.0 in labels with no predicted samples.\n",
      "  'precision', 'predicted', average, warn_for)\n",
      "/Users/akoerich/anaconda3/envs/gti770/lib/python3.6/site-packages/sklearn/metrics/classification.py:1143: UndefinedMetricWarning: Precision is ill-defined and being set to 0.0 in labels with no predicted samples.\n",
      "  'precision', 'predicted', average, warn_for)\n",
      "/Users/akoerich/anaconda3/envs/gti770/lib/python3.6/site-packages/sklearn/metrics/classification.py:1143: UndefinedMetricWarning: Precision is ill-defined and being set to 0.0 in labels with no predicted samples.\n",
      "  'precision', 'predicted', average, warn_for)\n",
      "/Users/akoerich/anaconda3/envs/gti770/lib/python3.6/site-packages/sklearn/metrics/classification.py:1143: UndefinedMetricWarning: Precision is ill-defined and being set to 0.0 in labels with no predicted samples.\n",
      "  'precision', 'predicted', average, warn_for)\n",
      "/Users/akoerich/anaconda3/envs/gti770/lib/python3.6/site-packages/sklearn/metrics/classification.py:1143: UndefinedMetricWarning: Precision is ill-defined and being set to 0.0 in labels with no predicted samples.\n",
      "  'precision', 'predicted', average, warn_for)\n",
      "/Users/akoerich/anaconda3/envs/gti770/lib/python3.6/site-packages/sklearn/metrics/classification.py:1143: UndefinedMetricWarning: Precision is ill-defined and being set to 0.0 in labels with no predicted samples.\n",
      "  'precision', 'predicted', average, warn_for)\n",
      "/Users/akoerich/anaconda3/envs/gti770/lib/python3.6/site-packages/sklearn/model_selection/_search.py:841: DeprecationWarning: The default of the `iid` parameter will change from True to False in version 0.22 and will be removed in 0.24. This will change numeric results when test-set sizes are unequal.\n",
      "  DeprecationWarning)\n"
     ]
    },
    {
     "name": "stdout",
     "output_type": "stream",
     "text": [
      "Best parameters set found on development set:\n",
      "\n",
      "{'C': 10, 'kernel': 'linear'}\n",
      "\n",
      "Grid scores on development set:\n",
      "\n",
      "0.480 (+/-0.158) for {'C': 1, 'kernel': 'linear'}\n",
      "0.689 (+/-0.139) for {'C': 10, 'kernel': 'linear'}\n",
      "0.637 (+/-0.157) for {'C': 100, 'kernel': 'linear'}\n",
      "0.632 (+/-0.129) for {'C': 1000, 'kernel': 'linear'}\n",
      "0.632 (+/-0.129) for {'C': 10000, 'kernel': 'linear'}\n",
      "\n",
      "Detailed classification report:\n",
      "\n",
      "The model is trained on the full development set.\n",
      "The scores are computed on the full evaluation set.\n",
      "\n",
      "              precision    recall  f1-score   support\n",
      "\n",
      "           0       0.92      0.69      0.79        16\n",
      "           1       0.58      0.69      0.63        16\n",
      "           2       0.57      0.40      0.47        10\n",
      "           3       1.00      0.28      0.43        18\n",
      "           4       0.50      0.79      0.61        14\n",
      "           5       0.60      0.50      0.55         6\n",
      "           6       1.00      0.08      0.14        13\n",
      "           7       0.25      0.14      0.18         7\n",
      "           8       0.75      0.41      0.53        22\n",
      "           9       0.38      0.95      0.55        21\n",
      "          10       0.58      0.70      0.64        20\n",
      "\n",
      "   micro avg       0.55      0.55      0.55       163\n",
      "   macro avg       0.65      0.51      0.50       163\n",
      "weighted avg       0.67      0.55      0.53       163\n",
      "\n",
      "\n",
      "# Tuning hyper-parameters for recall\n",
      "\n",
      "Best parameters set found on development set:\n",
      "\n",
      "{'C': 10, 'kernel': 'linear'}\n",
      "\n",
      "Grid scores on development set:\n",
      "\n",
      "0.470 (+/-0.148) for {'C': 1, 'kernel': 'linear'}\n",
      "0.667 (+/-0.148) for {'C': 10, 'kernel': 'linear'}\n",
      "0.634 (+/-0.158) for {'C': 100, 'kernel': 'linear'}\n",
      "0.628 (+/-0.124) for {'C': 1000, 'kernel': 'linear'}\n",
      "0.628 (+/-0.124) for {'C': 10000, 'kernel': 'linear'}\n",
      "\n",
      "Detailed classification report:\n",
      "\n",
      "The model is trained on the full development set.\n",
      "The scores are computed on the full evaluation set.\n",
      "\n",
      "              precision    recall  f1-score   support\n",
      "\n",
      "           0       0.92      0.69      0.79        16\n",
      "           1       0.58      0.69      0.63        16\n",
      "           2       0.57      0.40      0.47        10\n",
      "           3       1.00      0.28      0.43        18\n",
      "           4       0.50      0.79      0.61        14\n",
      "           5       0.60      0.50      0.55         6\n",
      "           6       1.00      0.08      0.14        13\n",
      "           7       0.25      0.14      0.18         7\n",
      "           8       0.75      0.41      0.53        22\n",
      "           9       0.38      0.95      0.55        21\n",
      "          10       0.58      0.70      0.64        20\n",
      "\n",
      "   micro avg       0.55      0.55      0.55       163\n",
      "   macro avg       0.65      0.51      0.50       163\n",
      "weighted avg       0.67      0.55      0.53       163\n",
      "\n",
      "\n"
     ]
    },
    {
     "name": "stderr",
     "output_type": "stream",
     "text": [
      "/Users/akoerich/anaconda3/envs/gti770/lib/python3.6/site-packages/sklearn/model_selection/_search.py:841: DeprecationWarning: The default of the `iid` parameter will change from True to False in version 0.22 and will be removed in 0.24. This will change numeric results when test-set sizes are unequal.\n",
      "  DeprecationWarning)\n"
     ]
    }
   ],
   "source": [
    "for metric in metrics:\n",
    "    print(\"# Tuning hyper-parameters for %s\" % metric)\n",
    "    print()\n",
    "\n",
    "    tuned_model = GridSearchCV(svm.SVC(probability=True), tuned_parameters, cv=5, scoring='%s_macro' % metric)\n",
    "    tuned_model.fit(Xtrain, Ytrain2)\n",
    "\n",
    "    print(\"Best parameters set found on development set:\")\n",
    "    print()\n",
    "    print(tuned_model.best_params_)\n",
    "    print()\n",
    "    print(\"Grid scores on development set:\")\n",
    "    print()\n",
    "    means = tuned_model.cv_results_['mean_test_score']\n",
    "    stds = tuned_model.cv_results_['std_test_score']\n",
    "    for mean, std, params in zip(means, stds, tuned_model.cv_results_['params']):\n",
    "        print(\"%0.3f (+/-%0.03f) for %r\"\n",
    "              % (mean, std * 2, params))\n",
    "    print()\n",
    "\n",
    "    print(\"Detailed classification report:\")\n",
    "    print()\n",
    "    print(\"The model is trained on the full development set.\")\n",
    "    print(\"The scores are computed on the full evaluation set.\")\n",
    "    print()\n",
    "    y_true, y_pred = Yvalid2, tuned_model.predict(Xvalid)\n",
    "    print(classification_report(y_true, y_pred))\n",
    "    print()"
   ]
  },
  {
   "cell_type": "code",
   "execution_count": 67,
   "metadata": {
    "scrolled": true
   },
   "outputs": [
    {
     "name": "stderr",
     "output_type": "stream",
     "text": [
      "/Users/akoerich/anaconda3/envs/gti770/lib/python3.6/site-packages/sklearn/model_selection/_search.py:841: DeprecationWarning: The default of the `iid` parameter will change from True to False in version 0.22 and will be removed in 0.24. This will change numeric results when test-set sizes are unequal.\n",
      "  DeprecationWarning)\n"
     ]
    },
    {
     "data": {
      "text/plain": [
       "GridSearchCV(cv=5, error_score='raise-deprecating',\n",
       "       estimator=SVC(C=1.0, cache_size=200, class_weight=None, coef0=0.0,\n",
       "  decision_function_shape='ovr', degree=3, gamma='auto_deprecated',\n",
       "  kernel='rbf', max_iter=-1, probability=True, random_state=None,\n",
       "  shrinking=True, tol=0.001, verbose=False),\n",
       "       fit_params=None, iid='warn', n_jobs=None,\n",
       "       param_grid=[{'kernel': ['linear'], 'C': [1, 10, 100, 1000, 10000]}],\n",
       "       pre_dispatch='2*n_jobs', refit=True, return_train_score='warn',\n",
       "       scoring='recall_macro', verbose=0)"
      ]
     },
     "execution_count": 67,
     "metadata": {},
     "output_type": "execute_result"
    }
   ],
   "source": [
    "# Fit the model (TRAIN)\n",
    "# Retrain the tuned model with the training dataset.\n",
    "# This is not really necessary as we did it in the cell above...\n",
    "tuned_model.fit(Xtrain, Ytrain2)"
   ]
  },
  {
   "cell_type": "code",
   "execution_count": 68,
   "metadata": {
    "scrolled": true
   },
   "outputs": [
    {
     "data": {
      "text/plain": [
       "array([ 0,  0,  0,  0,  0, 10, 10,  0, 10,  0,  0, 10, 10,  0,  0,  0,  9,\n",
       "        8,  1,  1,  1,  1,  1,  8,  1,  1,  1,  9,  8,  1,  1,  1,  9,  0,\n",
       "        2,  9, 10,  2,  2, 10,  2, 10,  3,  9,  3,  9,  3,  9,  9,  9,  4,\n",
       "        3,  9,  3,  9,  9,  9,  9,  9,  9,  9,  4,  4,  4,  4,  4,  4,  4,\n",
       "        4,  1,  4,  4,  4,  9,  5, 10,  5, 10,  5,  7,  4,  4,  2,  6,  4,\n",
       "        4,  4,  2,  4,  4,  4,  9,  4,  9,  9,  7,  9,  9,  9,  9,  1,  1,\n",
       "        8,  1,  1,  8,  1,  8,  9,  9,  9,  8,  8,  8,  2,  9,  8,  1,  8,\n",
       "        8,  9,  1,  4,  9,  9,  9,  9,  9,  9,  9,  9,  9,  9,  9,  9,  9,\n",
       "        9,  9,  9,  9,  9,  9,  9, 10, 10, 10, 10, 10, 10,  7,  5,  5, 10,\n",
       "       10, 10, 10, 10, 10, 10,  7,  9,  9, 10])"
      ]
     },
     "execution_count": 68,
     "metadata": {},
     "output_type": "execute_result"
    }
   ],
   "source": [
    "# Use the model to predict the class of samples\n",
    "# Notice that we are testing the train dataset\n",
    "Ytrain_pred = tuned_model.predict(Xtrain)\n",
    "Ytrain_pred\n",
    "\n",
    "Yvalid_pred = tuned_model.predict(Xvalid)\n",
    "Yvalid_pred"
   ]
  },
  {
   "cell_type": "code",
   "execution_count": 69,
   "metadata": {
    "scrolled": true
   },
   "outputs": [
    {
     "data": {
      "text/plain": [
       "array([[0.48, 0.05, 0.04, ..., 0.13, 0.03, 0.16],\n",
       "       [0.72, 0.02, 0.01, ..., 0.03, 0.  , 0.19],\n",
       "       [0.61, 0.03, 0.01, ..., 0.01, 0.01, 0.26],\n",
       "       ...,\n",
       "       [0.03, 0.01, 0.13, ..., 0.01, 0.27, 0.31],\n",
       "       [0.02, 0.01, 0.06, ..., 0.01, 0.55, 0.08],\n",
       "       [0.03, 0.01, 0.06, ..., 0.01, 0.26, 0.48]])"
      ]
     },
     "execution_count": 69,
     "metadata": {},
     "output_type": "execute_result"
    }
   ],
   "source": [
    "# You can also predict the probability of each class\n",
    "# train dataset\n",
    "Ytrain_pred_prob = tuned_model.predict_proba(Xtrain)\n",
    "Ytrain_pred_prob\n",
    "\n",
    "Yvalid_pred_prob = tuned_model.predict_proba(Xvalid)\n",
    "Yvalid_pred_prob"
   ]
  },
  {
   "cell_type": "code",
   "execution_count": 70,
   "metadata": {
    "scrolled": true
   },
   "outputs": [
    {
     "name": "stdout",
     "output_type": "stream",
     "text": [
      "Correct classification rate for the training dataset (first model) = 65.57377049180327%\n",
      "Correct classification rate for the training dataset (best model) = 90.1639344262295%\n",
      "\n",
      "Correct classification rate for the validation dataset (first model) = 55.21472392638037%\n",
      "Correct classification rate for the validation dataset (best model) = 55.21472392638037%\n"
     ]
    }
   ],
   "source": [
    "# Final evaluation of the model (On the Training, Validation or Test dataset)\n",
    "scores_tuned = accuracy_score(Ytrain2, Ytrain_pred )\n",
    "print(\"Correct classification rate for the training dataset (first model) = \"+str(scores*100)+\"%\")\n",
    "print(\"Correct classification rate for the training dataset (best model) = \"+str(scores_tuned*100)+\"%\")\n",
    "print()\n",
    "scores_tuned = accuracy_score(Yvalid2, Yvalid_pred )\n",
    "print(\"Correct classification rate for the validation dataset (first model) = \"+str(scores2*100)+\"%\")\n",
    "print(\"Correct classification rate for the validation dataset (best model) = \"+str(scores_tuned*100)+\"%\")"
   ]
  },
  {
   "cell_type": "code",
   "execution_count": 72,
   "metadata": {
    "scrolled": true
   },
   "outputs": [
    {
     "name": "stdout",
     "output_type": "stream",
     "text": [
      "Confusion matrix, without normalization\n",
      "[[11  0  0  0  0  0  0  0  0  0  5]\n",
      " [ 0 11  0  0  0  0  0  0  3  2  0]\n",
      " [ 1  0  4  0  0  0  0  0  0  2  3]\n",
      " [ 0  0  0  5  1  0  0  0  0 12  0]\n",
      " [ 0  1  0  0 11  0  0  0  0  2  0]\n",
      " [ 0  0  0  0  0  3  0  1  0  0  2]\n",
      " [ 0  0  2  0  9  0  1  0  0  1  0]\n",
      " [ 0  0  0  0  0  0  0  1  0  6  0]\n",
      " [ 0  7  1  0  0  0  0  0  9  5  0]\n",
      " [ 0  0  0  0  1  0  0  0  0 20  0]\n",
      " [ 0  0  0  0  0  2  0  2  0  2 14]]\n"
     ]
    }
   ],
   "source": [
    "# Predict and show the confusion matrix (For the Validation dataset)\n",
    "cm = confusion_matrix(Yvalid2, Yvalid_pred )\n",
    "np.set_printoptions(precision=2)\n",
    "# Plot non-normalized confusion matrix\n",
    "plt.figure()\n",
    "plot_confusion_matrix(cm, classes = ['0','1','2','3','4','5','6','7','8','9','10'],\n",
    "                      title='Confusion matrix, without normalization')"
   ]
  },
  {
   "cell_type": "code",
   "execution_count": 73,
   "metadata": {
    "scrolled": true
   },
   "outputs": [
    {
     "data": {
      "image/png": "[encoded data removed]",
      "text/plain": [
       "<Figure size 432x288 with 2 Axes>"
      ]
     },
     "metadata": {},
     "output_type": "display_data"
    },
    {
     "data": {
      "image/png": "[encoded data removed]",
      "text/plain": [
       "<Figure size 432x288 with 2 Axes>"
      ]
     },
     "metadata": {},
     "output_type": "display_data"
    }
   ],
   "source": [
    "plt.show()"
   ]
  },
  {
   "cell_type": "code",
   "execution_count": 74,
   "metadata": {
    "scrolled": true
   },
   "outputs": [
    {
     "name": "stdout",
     "output_type": "stream",
     "text": [
      "Notebook ended\n"
     ]
    }
   ],
   "source": [
    "print(\"Notebook ended\")"
   ]
  },
  {
   "cell_type": "code",
   "execution_count": null,
   "metadata": {
    "collapsed": true
   },
   "outputs": [],
   "source": []
  },
  {
   "cell_type": "code",
   "execution_count": null,
   "metadata": {
    "collapsed": true
   },
   "outputs": [],
   "source": []
  },
  {
   "cell_type": "code",
   "execution_count": null,
   "metadata": {
    "collapsed": true
   },
   "outputs": [],
   "source": []
  }
 ],
 "metadata": {
  "kernelspec": {
   "display_name": "Python 3",
   "language": "python",
   "name": "python3"
  },
  "language_info": {
   "codemirror_mode": {
    "name": "ipython",
    "version": 3
   },
   "file_extension": ".py",
   "mimetype": "text/x-python",
   "name": "python",
   "nbconvert_exporter": "python",
   "pygments_lexer": "ipython3",
   "version": "3.6.2"
  }
 },
 "nbformat": 4,
 "nbformat_minor": 2
}
